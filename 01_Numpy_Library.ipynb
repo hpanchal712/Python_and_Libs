{
 "cells": [
  {
   "cell_type": "markdown",
   "id": "80337883-9d15-4295-8ccc-8f19298479da",
   "metadata": {},
   "source": [
    "`NumPy` is the fundamental package for `scientific computing` in Python. NumPy arrays facilitate `advanced mathematical and other types of operations` on `large numbers of data`. Typically, such operations are executed more `efficiently and with less code` than is possible using Python’s built-in sequences. NumPy is not another programming language but a Python `extension module`. It provides `fast and efficient` operations on arrays of `homogeneous data`.\n",
    "\n",
    "Advantages of using Numpy Arrays Over Python Lists:\n",
    "\n",
    "* consumes less memory. <br>\n",
    "* fast as compared to the python List. <br>\n",
    "* convenient to use. <br>\n",
    "\n",
    "Faster?? by how much?"
   ]
  },
  {
   "cell_type": "markdown",
   "id": "a62879f3-0d51-4c24-840c-c588b381a7c8",
   "metadata": {},
   "source": [
    "<img src=\"comparison.png\" style=\"background-color:white;\" />"
   ]
  },
  {
   "cell_type": "code",
   "execution_count": null,
   "id": "23536fe1",
   "metadata": {},
   "outputs": [],
   "source": [
    "!pip install numpy"
   ]
  },
  {
   "cell_type": "code",
   "execution_count": 2,
   "id": "6a5c63c5-00e5-42f4-8171-95812e3b042e",
   "metadata": {},
   "outputs": [],
   "source": [
    "import numpy as np"
   ]
  },
  {
   "cell_type": "markdown",
   "id": "5d019e3c-82bd-4914-84b1-74a2836f5587",
   "metadata": {},
   "source": [
    "Numpy is a class, just like any other class in python like str, int\n",
    "\n",
    "But we never import str, int then why this?\n",
    "\n",
    "It is not predefined class like you have defined classes earlier, same somebody else defined this class hence we need to import it"
   ]
  },
  {
   "cell_type": "markdown",
   "id": "929c1be6-3653-4749-9dee-e6a46e2466e8",
   "metadata": {},
   "source": [
    "## Single dimension list"
   ]
  },
  {
   "cell_type": "code",
   "execution_count": 3,
   "id": "10d99a41-7433-4e68-8d88-df55dbe9f2bb",
   "metadata": {},
   "outputs": [
    {
     "name": "stdout",
     "output_type": "stream",
     "text": [
      "[1 2 3]\n"
     ]
    }
   ],
   "source": [
    "a = np.array([1, 2, 3])\n",
    "print(a)"
   ]
  },
  {
   "cell_type": "code",
   "execution_count": 4,
   "id": "21e2f99c",
   "metadata": {},
   "outputs": [
    {
     "data": {
      "text/plain": [
       "array([1, 2])"
      ]
     },
     "execution_count": 4,
     "metadata": {},
     "output_type": "execute_result"
    }
   ],
   "source": [
    "np.array([1,2])"
   ]
  },
  {
   "cell_type": "code",
   "execution_count": 5,
   "id": "446d1d41",
   "metadata": {},
   "outputs": [
    {
     "name": "stdout",
     "output_type": "stream",
     "text": [
      "<class 'numpy.ndarray'>\n"
     ]
    }
   ],
   "source": [
    "# check type of Numpy Array\n",
    "print(type(a))"
   ]
  },
  {
   "cell_type": "markdown",
   "id": "22875768-bbb7-4757-8e0c-cb506db378ef",
   "metadata": {},
   "source": [
    "Multi dimension list"
   ]
  },
  {
   "cell_type": "code",
   "execution_count": 6,
   "id": "ce94c0dd-7dbf-4060-a037-b475d222d6c7",
   "metadata": {},
   "outputs": [
    {
     "name": "stdout",
     "output_type": "stream",
     "text": [
      "[[1 2 3]\n",
      " [4 5 6]]\n"
     ]
    }
   ],
   "source": [
    "a = np.array([(1, 2, 3), (4, 5, 6)])\n",
    "print(a)"
   ]
  },
  {
   "cell_type": "markdown",
   "id": "1eb17048-c5a7-4f8d-8aaa-f64f72aba59b",
   "metadata": {},
   "source": [
    "Wanna compare python list vs numpy array by yourself"
   ]
  },
  {
   "cell_type": "code",
   "execution_count": 7,
   "id": "10245542-72ea-4ed1-b067-8427026eecb4",
   "metadata": {},
   "outputs": [
    {
     "name": "stdout",
     "output_type": "stream",
     "text": [
      "Size of each element of list in bytes:  48\n",
      "Size of the whole list in bytes:  48000\n",
      "Size of each element of the Numpy array in bytes:  4\n",
      "Size of the whole Numpy array in bytes:  4000\n"
     ]
    }
   ],
   "source": [
    "# importing system module\n",
    "import sys\n",
    "  \n",
    "# declaring a list of 1000 elements \n",
    "S = range(1000)\n",
    "  \n",
    "# printing size of each element of the list\n",
    "print(\"Size of each element of list in bytes: \",sys.getsizeof(S))\n",
    "  \n",
    "# printing size of the whole list\n",
    "print(\"Size of the whole list in bytes: \",sys.getsizeof(S)*len(S))\n",
    "  \n",
    "# declaring a Numpy array of 1000 elements \n",
    "D = np.array(S)\n",
    "  \n",
    "# printing size of each element of the Numpy array\n",
    "print(\"Size of each element of the Numpy array in bytes: \",D.itemsize)\n",
    "  \n",
    "# printing size of the whole Numpy array\n",
    "print(\"Size of the whole Numpy array in bytes: \",D.size*D.itemsize)"
   ]
  },
  {
   "cell_type": "markdown",
   "id": "2d15de3d-fb1c-40d1-a380-32485c55ba7e",
   "metadata": {},
   "source": [
    "Lets start exploring about numpy functionality\n",
    "\n",
    "## Indexing"
   ]
  },
  {
   "cell_type": "code",
   "execution_count": 8,
   "id": "f389e5e1",
   "metadata": {},
   "outputs": [
    {
     "name": "stdout",
     "output_type": "stream",
     "text": [
      "[1 5]\n"
     ]
    }
   ],
   "source": [
    "a = np.array([1, 5, 3])\n",
    "print(a[:-1])"
   ]
  },
  {
   "cell_type": "code",
   "execution_count": 9,
   "id": "12c9ba1b",
   "metadata": {},
   "outputs": [
    {
     "name": "stdout",
     "output_type": "stream",
     "text": [
      "[[10 20 30]\n",
      " [40 50 60]]\n"
     ]
    }
   ],
   "source": [
    "a = np.array([[10, 20, 30], (40, 50, 60)])\n",
    "print(a)"
   ]
  },
  {
   "cell_type": "markdown",
   "id": "b45301b8",
   "metadata": {},
   "source": [
    "How it is getting stored\n",
    "\n",
    "```python\n",
    "np.array([\n",
    "#cols ->     0   1   2\n",
    "          0 [10, 20, 30], \n",
    "          1 [40, 50, 60],\n",
    "#    rows ^\n",
    "])\n",
    "```"
   ]
  },
  {
   "cell_type": "code",
   "execution_count": 10,
   "id": "5dd6d0a8",
   "metadata": {},
   "outputs": [
    {
     "data": {
      "text/plain": [
       "20"
      ]
     },
     "execution_count": 10,
     "metadata": {},
     "output_type": "execute_result"
    }
   ],
   "source": [
    "a[0, 1]"
   ]
  },
  {
   "cell_type": "code",
   "execution_count": 11,
   "id": "cdb8393c",
   "metadata": {},
   "outputs": [
    {
     "data": {
      "text/plain": [
       "20"
      ]
     },
     "execution_count": 11,
     "metadata": {},
     "output_type": "execute_result"
    }
   ],
   "source": [
    "# a[row, col]\n",
    "a[0, 1]"
   ]
  },
  {
   "cell_type": "code",
   "execution_count": 12,
   "id": "df57b5d8",
   "metadata": {},
   "outputs": [
    {
     "data": {
      "text/plain": [
       "40"
      ]
     },
     "execution_count": 12,
     "metadata": {},
     "output_type": "execute_result"
    }
   ],
   "source": [
    "a[1, 0]"
   ]
  },
  {
   "cell_type": "code",
   "execution_count": 13,
   "id": "285e1267",
   "metadata": {},
   "outputs": [
    {
     "data": {
      "text/plain": [
       "60"
      ]
     },
     "execution_count": 13,
     "metadata": {},
     "output_type": "execute_result"
    }
   ],
   "source": [
    "a[1, 0] + a[0, 1]"
   ]
  },
  {
   "cell_type": "code",
   "execution_count": 14,
   "id": "b98eaf57",
   "metadata": {},
   "outputs": [
    {
     "data": {
      "text/plain": [
       "array([[10, 20, 30],\n",
       "       [40, 50, 60]])"
      ]
     },
     "execution_count": 14,
     "metadata": {},
     "output_type": "execute_result"
    }
   ],
   "source": [
    "a"
   ]
  },
  {
   "cell_type": "code",
   "execution_count": 15,
   "id": "20836465",
   "metadata": {},
   "outputs": [
    {
     "data": {
      "text/plain": [
       "30"
      ]
     },
     "execution_count": 15,
     "metadata": {},
     "output_type": "execute_result"
    }
   ],
   "source": [
    "a[0, -1]"
   ]
  },
  {
   "cell_type": "code",
   "execution_count": 16,
   "id": "7f6277e5",
   "metadata": {},
   "outputs": [
    {
     "data": {
      "text/plain": [
       "60"
      ]
     },
     "execution_count": 16,
     "metadata": {},
     "output_type": "execute_result"
    }
   ],
   "source": [
    "a[-1, -1]"
   ]
  },
  {
   "cell_type": "code",
   "execution_count": 17,
   "id": "0b58a805",
   "metadata": {},
   "outputs": [
    {
     "data": {
      "text/plain": [
       "array([], shape=(0, 3), dtype=int32)"
      ]
     },
     "execution_count": 17,
     "metadata": {},
     "output_type": "execute_result"
    }
   ],
   "source": [
    "a[:-2]"
   ]
  },
  {
   "cell_type": "markdown",
   "id": "d6f0c8a7",
   "metadata": {},
   "source": [
    "## Slicing"
   ]
  },
  {
   "cell_type": "code",
   "execution_count": 18,
   "id": "4606b36b",
   "metadata": {},
   "outputs": [
    {
     "name": "stdout",
     "output_type": "stream",
     "text": [
      "[2 3 4 5]\n"
     ]
    }
   ],
   "source": [
    "#               0, 1, 2, 3, 4, 5, 6\n",
    "arr = np.array([1, 2, 3, 4, 5, 6, 7])\n",
    "\n",
    "print(arr[1 : 5])"
   ]
  },
  {
   "cell_type": "code",
   "execution_count": 19,
   "id": "f8fd7102",
   "metadata": {},
   "outputs": [
    {
     "name": "stdout",
     "output_type": "stream",
     "text": [
      "[2 4]\n"
     ]
    }
   ],
   "source": [
    "arr = np.array([1, 2, 3, 4, 5, 6, 7])\n",
    "#               0  1  2  3  4  5  6\n",
    "\n",
    "print(arr[1 : 5 : 2]) #1,2,3,4 \n",
    "# 1 + 2 + 2\n",
    "# 1, 3"
   ]
  },
  {
   "cell_type": "code",
   "execution_count": 20,
   "id": "24c5107c",
   "metadata": {},
   "outputs": [
    {
     "data": {
      "text/plain": [
       "array([3, 8])"
      ]
     },
     "execution_count": 20,
     "metadata": {},
     "output_type": "execute_result"
    }
   ],
   "source": [
    "#  if it is a 2-d array\n",
    "arr = np.array([\n",
    "#    0, 1, 2, 3, 4\n",
    "    [1, 2, 3, 4, 5], \n",
    "    [6, 7, 8, 9, 10]\n",
    "])\n",
    "\n",
    "arr[0:2, 2]"
   ]
  },
  {
   "cell_type": "code",
   "execution_count": 21,
   "id": "d7b41ac7",
   "metadata": {},
   "outputs": [
    {
     "name": "stdout",
     "output_type": "stream",
     "text": [
      "[[2 3]]\n"
     ]
    }
   ],
   "source": [
    "print(arr[0:1, 1:3])"
   ]
  },
  {
   "cell_type": "code",
   "execution_count": 22,
   "id": "6142e783",
   "metadata": {},
   "outputs": [
    {
     "name": "stdout",
     "output_type": "stream",
     "text": [
      "[]\n"
     ]
    }
   ],
   "source": [
    "print(arr[1:1, 1:3])"
   ]
  },
  {
   "cell_type": "code",
   "execution_count": 23,
   "id": "b8ea434f",
   "metadata": {},
   "outputs": [
    {
     "name": "stdout",
     "output_type": "stream",
     "text": [
      "[[2 3 4]\n",
      " [7 8 9]]\n"
     ]
    }
   ],
   "source": [
    "print(arr[0:2, 1:4])"
   ]
  },
  {
   "cell_type": "code",
   "execution_count": 24,
   "id": "db4bb582",
   "metadata": {},
   "outputs": [
    {
     "name": "stdout",
     "output_type": "stream",
     "text": [
      "[]\n"
     ]
    }
   ],
   "source": [
    "arr = np.array([\n",
    "    [1,2,3,4,5,6],\n",
    "    [6,7,8,9,10,11]\n",
    "    \n",
    "])\n",
    "\n",
    "print(arr[4:100,2:4])"
   ]
  },
  {
   "cell_type": "markdown",
   "id": "a703a330",
   "metadata": {},
   "source": [
    "## Data types in np\n",
    "\n",
    "* i - integer\n",
    "\n",
    "* b - boolean\n",
    "\n",
    "* u - unsigned integer\n",
    "\n",
    "* f - float\n",
    "\n",
    "* c - complex float\n",
    "\n",
    "* m - timedelta\n",
    "\n",
    "* M - datetime\n",
    "\n",
    "* O - object\n",
    "\n",
    "* S - string\n",
    "\n",
    "* U - unicode string\n",
    "\n",
    "* V - fixed chunk of memory for other type ( void )\n"
   ]
  },
  {
   "cell_type": "code",
   "execution_count": 25,
   "id": "37ffa5ba",
   "metadata": {},
   "outputs": [
    {
     "name": "stdout",
     "output_type": "stream",
     "text": [
      "int32\n"
     ]
    }
   ],
   "source": [
    "arr = np.array([1, 2])\n",
    "print(arr.dtype)"
   ]
  },
  {
   "cell_type": "code",
   "execution_count": 26,
   "id": "1c2fbfe0",
   "metadata": {},
   "outputs": [
    {
     "name": "stdout",
     "output_type": "stream",
     "text": [
      "<U4\n"
     ]
    }
   ],
   "source": [
    "arr = np.array(['name', '2'])\n",
    "print(arr.dtype)"
   ]
  },
  {
   "cell_type": "code",
   "execution_count": 30,
   "id": "dedd7cda",
   "metadata": {},
   "outputs": [
    {
     "name": "stdout",
     "output_type": "stream",
     "text": [
      "<U7\n"
     ]
    }
   ],
   "source": [
    "arr = np.array(['hitesh', 'panchal'])\n",
    "print(arr.dtype)"
   ]
  },
  {
   "cell_type": "code",
   "execution_count": 31,
   "id": "bfe42b7a",
   "metadata": {},
   "outputs": [
    {
     "name": "stdout",
     "output_type": "stream",
     "text": [
      "int32\n"
     ]
    }
   ],
   "source": [
    "arr = np.array([0, 1])\n",
    "print(arr.dtype)"
   ]
  },
  {
   "cell_type": "code",
   "execution_count": 32,
   "id": "aeefb23c",
   "metadata": {},
   "outputs": [
    {
     "name": "stdout",
     "output_type": "stream",
     "text": [
      "float64\n"
     ]
    }
   ],
   "source": [
    "arr = np.array([0.0, 1.1])\n",
    "print(arr.dtype)"
   ]
  },
  {
   "cell_type": "code",
   "execution_count": 33,
   "id": "980eefe0",
   "metadata": {},
   "outputs": [
    {
     "name": "stdout",
     "output_type": "stream",
     "text": [
      "['1' '2']\n",
      "<U1\n"
     ]
    }
   ],
   "source": [
    "arr = np.array([1, 2], dtype=\"U\")\n",
    "print(arr)\n",
    "print(arr.dtype)"
   ]
  },
  {
   "cell_type": "code",
   "execution_count": 34,
   "id": "190532a4",
   "metadata": {},
   "outputs": [
    {
     "name": "stdout",
     "output_type": "stream",
     "text": [
      "['111' '0' '3']\n",
      "<U11\n"
     ]
    }
   ],
   "source": [
    "arr = np.array([111, 0, 3])\n",
    "\n",
    "newarr = arr.astype(str)\n",
    "\n",
    "print(newarr)\n",
    "print(newarr.dtype)"
   ]
  },
  {
   "cell_type": "code",
   "execution_count": 35,
   "id": "3bf63ad3",
   "metadata": {},
   "outputs": [
    {
     "name": "stdout",
     "output_type": "stream",
     "text": [
      "[1 2 3]\n",
      "int32\n"
     ]
    }
   ],
   "source": [
    "arr = np.array([1.9, 2.1, 3.1])\n",
    "\n",
    "newarr = arr.astype(int)\n",
    "\n",
    "print(newarr)\n",
    "print(newarr.dtype)"
   ]
  },
  {
   "cell_type": "code",
   "execution_count": 36,
   "id": "3a8ca91b",
   "metadata": {},
   "outputs": [
    {
     "data": {
      "text/plain": [
       "array([1, 2, 3])"
      ]
     },
     "execution_count": 36,
     "metadata": {},
     "output_type": "execute_result"
    }
   ],
   "source": [
    "np.array([1.9, 2.1, 3.1], dtype=\"int\")"
   ]
  },
  {
   "cell_type": "markdown",
   "id": "eaffe71c",
   "metadata": {},
   "source": [
    "## Shape\n",
    "\n",
    "(How many `rows`, how many `columns`)"
   ]
  },
  {
   "cell_type": "code",
   "execution_count": 37,
   "id": "27dac9af",
   "metadata": {},
   "outputs": [
    {
     "name": "stdout",
     "output_type": "stream",
     "text": [
      "(2, 4)\n"
     ]
    }
   ],
   "source": [
    "arr = np.array([[1, 2, 3, 4], [5, 6, 7, 8]])\n",
    "\n",
    "print(arr.shape)"
   ]
  },
  {
   "cell_type": "code",
   "execution_count": 38,
   "id": "952bc240",
   "metadata": {},
   "outputs": [
    {
     "name": "stdout",
     "output_type": "stream",
     "text": [
      "[[[[[1 2 3 4]]]]]\n",
      "shape of array : (1, 1, 1, 1, 4)\n"
     ]
    }
   ],
   "source": [
    "arr = np.array([1, 2, 3, 4], ndmin=5)\n",
    "\n",
    "print(arr)\n",
    "print('shape of array :', arr.shape)"
   ]
  },
  {
   "cell_type": "markdown",
   "id": "682b4094",
   "metadata": {},
   "source": [
    "# ndim\n",
    "\n",
    "Number of array dimensions."
   ]
  },
  {
   "cell_type": "code",
   "execution_count": 39,
   "id": "b84914b0-26dc-4732-9c54-73fb06865165",
   "metadata": {},
   "outputs": [
    {
     "name": "stdout",
     "output_type": "stream",
     "text": [
      "0\n"
     ]
    }
   ],
   "source": [
    "print(np.array(8).ndim)"
   ]
  },
  {
   "cell_type": "code",
   "execution_count": 40,
   "id": "13b290da-2aa7-46e0-a6e8-12b5b198675d",
   "metadata": {},
   "outputs": [
    {
     "name": "stdout",
     "output_type": "stream",
     "text": [
      "1\n"
     ]
    }
   ],
   "source": [
    "print(np.array([8, 1]).ndim)"
   ]
  },
  {
   "cell_type": "code",
   "execution_count": 41,
   "id": "6000c536",
   "metadata": {},
   "outputs": [
    {
     "name": "stdout",
     "output_type": "stream",
     "text": [
      "1\n"
     ]
    }
   ],
   "source": [
    "print(np.array([8, 1, 2]).ndim)"
   ]
  },
  {
   "cell_type": "code",
   "execution_count": 43,
   "id": "7a74dac9",
   "metadata": {},
   "outputs": [
    {
     "name": "stdout",
     "output_type": "stream",
     "text": [
      "2\n"
     ]
    }
   ],
   "source": [
    "print(np.array([[8, 2, 1], [9, 2, 3]]).ndim)"
   ]
  },
  {
   "cell_type": "markdown",
   "id": "3eee4d9f",
   "metadata": {},
   "source": [
    "## Reshape"
   ]
  },
  {
   "cell_type": "code",
   "execution_count": 44,
   "id": "ccb46e01",
   "metadata": {},
   "outputs": [
    {
     "name": "stdout",
     "output_type": "stream",
     "text": [
      "[[ 1  2  3]\n",
      " [ 4  5  6]\n",
      " [ 7  8  9]\n",
      " [10 11 12]]\n"
     ]
    }
   ],
   "source": [
    "arr = np.array([1, 2, 3, 4, 5, 6, 7, 8, 9, 10, 11, 12])\n",
    "\n",
    "newarr = arr.reshape(4, 3)\n",
    "\n",
    "print(newarr)"
   ]
  },
  {
   "cell_type": "code",
   "execution_count": 45,
   "id": "9f35adfe",
   "metadata": {},
   "outputs": [
    {
     "name": "stdout",
     "output_type": "stream",
     "text": [
      "[[[ 1  2]\n",
      "  [ 3  4]\n",
      "  [ 5  6]]\n",
      "\n",
      " [[ 7  8]\n",
      "  [ 9 10]\n",
      "  [11 12]]]\n"
     ]
    }
   ],
   "source": [
    "arr = np.array([1, 2, 3, 4, 5, 6, 7, 8, 9, 10, 11, 12])\n",
    "\n",
    "newarr = arr.reshape(2, 3, 2)\n",
    "\n",
    "print(newarr)"
   ]
  },
  {
   "cell_type": "markdown",
   "id": "c5c0e708",
   "metadata": {},
   "source": [
    "Lets reverse everything"
   ]
  },
  {
   "cell_type": "code",
   "execution_count": 47,
   "id": "44e18dc2",
   "metadata": {},
   "outputs": [
    {
     "name": "stdout",
     "output_type": "stream",
     "text": [
      "[[[ 1  2]\n",
      "  [ 3  4]\n",
      "  [ 5  6]]\n",
      "\n",
      " [[ 7  8]\n",
      "  [ 9 10]\n",
      "  [11 12]]]\n"
     ]
    }
   ],
   "source": [
    "# [ 1  2  3  4  5  6  7  8  9 10 11 12]\n",
    "print(newarr)"
   ]
  },
  {
   "cell_type": "code",
   "execution_count": 48,
   "id": "9f8f746d",
   "metadata": {},
   "outputs": [
    {
     "name": "stdout",
     "output_type": "stream",
     "text": [
      "[ 1  2  3  4  5  6  7  8  9 10 11 12]\n"
     ]
    }
   ],
   "source": [
    "arr = newarr.reshape(12)\n",
    "\n",
    "print(arr)"
   ]
  },
  {
   "cell_type": "code",
   "execution_count": 49,
   "id": "73e2c572",
   "metadata": {},
   "outputs": [
    {
     "name": "stdout",
     "output_type": "stream",
     "text": [
      "[ 1  2  3  4  5  6  7  8  9 10 11 12]\n"
     ]
    }
   ],
   "source": [
    "arr = newarr.reshape(-1)\n",
    "\n",
    "print(arr)"
   ]
  },
  {
   "cell_type": "code",
   "execution_count": 50,
   "id": "dab64d43",
   "metadata": {},
   "outputs": [
    {
     "name": "stdout",
     "output_type": "stream",
     "text": [
      "[[[ 1  2  3]\n",
      "  [ 4  5  6]]\n",
      "\n",
      " [[ 7  8  9]\n",
      "  [10 11 12]]]\n"
     ]
    }
   ],
   "source": [
    "# [[[ 1  2  3]\n",
    "#   [ 4  5  6]]\n",
    "\n",
    "#  [[ 7  8  9]\n",
    "#   [10 11 12]]]\n",
    "\n",
    "print(newarr.reshape(2, 2, -1))"
   ]
  },
  {
   "cell_type": "markdown",
   "id": "c2231978",
   "metadata": {},
   "source": [
    "## Iterating Arrays"
   ]
  },
  {
   "cell_type": "code",
   "execution_count": 51,
   "id": "7206d8e8",
   "metadata": {},
   "outputs": [
    {
     "name": "stdout",
     "output_type": "stream",
     "text": [
      "1\n",
      "2\n",
      "3\n"
     ]
    }
   ],
   "source": [
    "arr = np.array([1, 2, 3])\n",
    "\n",
    "for x in arr:\n",
    "  print(x)"
   ]
  },
  {
   "cell_type": "code",
   "execution_count": 52,
   "id": "3e6bda6e",
   "metadata": {},
   "outputs": [
    {
     "name": "stdout",
     "output_type": "stream",
     "text": [
      "[1 2 3]\n",
      "[4 5 6]\n"
     ]
    }
   ],
   "source": [
    "arr = np.array([[1, 2, 3], [4, 5, 6]])\n",
    "\n",
    "for x in arr:\n",
    "  print(x)"
   ]
  },
  {
   "cell_type": "code",
   "execution_count": 53,
   "id": "6f597f9e",
   "metadata": {},
   "outputs": [
    {
     "name": "stdout",
     "output_type": "stream",
     "text": [
      "[[1 2 3]\n",
      " [4 5 6]]\n",
      "[[ 7  8  9]\n",
      " [10 11 12]]\n"
     ]
    }
   ],
   "source": [
    "arr = np.array([[[1, 2, 3], [4, 5, 6]], [[7, 8, 9], [10, 11, 12]]])\n",
    "\n",
    "for x in arr:\n",
    "  print(x)"
   ]
  },
  {
   "cell_type": "code",
   "execution_count": 54,
   "id": "483a6ef5",
   "metadata": {},
   "outputs": [
    {
     "name": "stdout",
     "output_type": "stream",
     "text": [
      "1\n",
      "2\n",
      "3\n",
      "4\n",
      "5\n",
      "6\n",
      "7\n",
      "8\n",
      "9\n",
      "10\n",
      "11\n",
      "12\n"
     ]
    }
   ],
   "source": [
    "arr = np.array([[[1, 2, 3], [4, 5, 6]], [[7, 8, 9], [10, 11, 12]]])\n",
    "\n",
    "for x in arr:\n",
    "  for y in x:\n",
    "    for z in y:\n",
    "      print(z)"
   ]
  },
  {
   "cell_type": "code",
   "execution_count": 55,
   "id": "673bd3c7",
   "metadata": {},
   "outputs": [
    {
     "name": "stdout",
     "output_type": "stream",
     "text": [
      "1\n",
      "2\n",
      "3\n",
      "4\n",
      "5\n",
      "6\n",
      "7\n",
      "8\n"
     ]
    }
   ],
   "source": [
    "arr = np.array([[[1, 2], [3, 4]], [[5, 6], [7, 8]]])\n",
    "\n",
    "for x in np.nditer(arr):\n",
    "  print(x)"
   ]
  },
  {
   "cell_type": "code",
   "execution_count": 56,
   "id": "717a653e",
   "metadata": {},
   "outputs": [
    {
     "name": "stdout",
     "output_type": "stream",
     "text": [
      "b'1'\n",
      "b'2'\n",
      "b'3'\n"
     ]
    }
   ],
   "source": [
    "arr = np.array([1, 2, 3])\n",
    "\n",
    "for x in np.nditer(arr, flags=['buffered'], op_dtypes=['S']):\n",
    "  print(x)"
   ]
  },
  {
   "cell_type": "code",
   "execution_count": 57,
   "id": "bd67ae29",
   "metadata": {},
   "outputs": [
    {
     "name": "stdout",
     "output_type": "stream",
     "text": [
      "1\n",
      "3\n",
      "5\n",
      "7\n"
     ]
    }
   ],
   "source": [
    "arr = np.array([[1, 2, 3, 4], [5, 6, 7, 8]])\n",
    "\n",
    "for x in np.nditer(arr[:, ::2]):\n",
    "  print(x)"
   ]
  },
  {
   "cell_type": "code",
   "execution_count": 58,
   "id": "5f01b062",
   "metadata": {},
   "outputs": [
    {
     "name": "stdout",
     "output_type": "stream",
     "text": [
      "(0, 0) 1\n",
      "(0, 1) 2\n",
      "(0, 2) 3\n",
      "(0, 3) 4\n",
      "(1, 0) 5\n",
      "(1, 1) 6\n",
      "(1, 2) 7\n",
      "(1, 3) 8\n"
     ]
    }
   ],
   "source": [
    "arr = np.array([[1, 2, 3, 4], [5, 6, 7, 8]])\n",
    "\n",
    "for idx, x in np.ndenumerate(arr):\n",
    "  print(idx, x)"
   ]
  },
  {
   "cell_type": "markdown",
   "id": "3e8fdd82",
   "metadata": {},
   "source": [
    "## Append"
   ]
  },
  {
   "cell_type": "code",
   "execution_count": 59,
   "id": "de27f49a",
   "metadata": {},
   "outputs": [
    {
     "data": {
      "text/plain": [
       "array([1, 2, 3, 1])"
      ]
     },
     "execution_count": 59,
     "metadata": {},
     "output_type": "execute_result"
    }
   ],
   "source": [
    "arr = np.array([1,2,3])\n",
    "np.append(arr, [1])"
   ]
  },
  {
   "cell_type": "code",
   "execution_count": 60,
   "id": "557fe930",
   "metadata": {},
   "outputs": [
    {
     "data": {
      "text/plain": [
       "array([1, 2, 3, 2, 3, 4, 1])"
      ]
     },
     "execution_count": 60,
     "metadata": {},
     "output_type": "execute_result"
    }
   ],
   "source": [
    "arr = np.array([[1,2,3], [2,3,4]])\n",
    "np.append(arr, [1])"
   ]
  },
  {
   "cell_type": "code",
   "execution_count": 61,
   "id": "28adfb28",
   "metadata": {},
   "outputs": [
    {
     "data": {
      "text/plain": [
       "array([[1, 2, 3],\n",
       "       [2, 3, 4],\n",
       "       [5, 6, 7]])"
      ]
     },
     "execution_count": 61,
     "metadata": {},
     "output_type": "execute_result"
    }
   ],
   "source": [
    "arr = np.array([[1,2,3], [2,3,4]])\n",
    "np.append(arr, [[5,6,7]], axis=0)"
   ]
  },
  {
   "cell_type": "code",
   "execution_count": 62,
   "id": "2cee1ce8",
   "metadata": {},
   "outputs": [
    {
     "name": "stdout",
     "output_type": "stream",
     "text": [
      "(2, 3)\n",
      "(2, 1)\n"
     ]
    },
    {
     "data": {
      "text/plain": [
       "array([[1, 2, 3, 5],\n",
       "       [2, 3, 4, 6]])"
      ]
     },
     "execution_count": 62,
     "metadata": {},
     "output_type": "execute_result"
    }
   ],
   "source": [
    "arr = np.array([[1,2,3], [2,3,4]])\n",
    "print(arr.shape)\n",
    "print(np.array([[5],[6]]).shape)\n",
    "np.append(arr, [[5],[6]], axis=1)"
   ]
  },
  {
   "cell_type": "markdown",
   "id": "e7fecdb6",
   "metadata": {},
   "source": [
    "## Stack"
   ]
  },
  {
   "cell_type": "code",
   "execution_count": 63,
   "id": "06d92ec4",
   "metadata": {},
   "outputs": [
    {
     "data": {
      "text/plain": [
       "[array([-0.52080709, -0.15136883, -2.15819016, -0.14570637,  0.54671092]),\n",
       " array([-0.61494489,  0.34358773,  0.88003603, -1.08156501,  1.32187857]),\n",
       " array([-0.51356577, -0.44115561, -0.46678351,  0.30288594,  2.03856688]),\n",
       " array([ 0.91687385, -0.58835036, -0.99912557, -0.47296926,  0.40578114]),\n",
       " array([-2.01465172,  1.46590919,  1.48781372,  0.50803456,  0.23536589]),\n",
       " array([-0.62468998,  0.0506514 ,  0.01914159,  1.2100571 ,  0.33907303]),\n",
       " array([ 0.23475903,  1.07041889, -0.09744266,  2.18088051, -0.5565556 ]),\n",
       " array([ 1.56555595, -0.45939919, -0.44554255,  0.4180463 ,  0.41326966]),\n",
       " array([ 1.83047387,  0.26109834,  0.39193675, -1.62934534, -0.47608355]),\n",
       " array([-0.69291805,  0.01007997,  0.06262497, -0.41769496, -0.34149574])]"
      ]
     },
     "execution_count": 63,
     "metadata": {},
     "output_type": "execute_result"
    }
   ],
   "source": [
    "arrays = [np.random.randn(5) for _ in range(10)]\n",
    "arrays"
   ]
  },
  {
   "cell_type": "code",
   "execution_count": 64,
   "id": "e20e18b6",
   "metadata": {},
   "outputs": [
    {
     "name": "stdout",
     "output_type": "stream",
     "text": [
      "(10, 5)\n"
     ]
    },
    {
     "data": {
      "text/plain": [
       "array([[-0.52080709, -0.15136883, -2.15819016, -0.14570637,  0.54671092],\n",
       "       [-0.61494489,  0.34358773,  0.88003603, -1.08156501,  1.32187857],\n",
       "       [-0.51356577, -0.44115561, -0.46678351,  0.30288594,  2.03856688],\n",
       "       [ 0.91687385, -0.58835036, -0.99912557, -0.47296926,  0.40578114],\n",
       "       [-2.01465172,  1.46590919,  1.48781372,  0.50803456,  0.23536589],\n",
       "       [-0.62468998,  0.0506514 ,  0.01914159,  1.2100571 ,  0.33907303],\n",
       "       [ 0.23475903,  1.07041889, -0.09744266,  2.18088051, -0.5565556 ],\n",
       "       [ 1.56555595, -0.45939919, -0.44554255,  0.4180463 ,  0.41326966],\n",
       "       [ 1.83047387,  0.26109834,  0.39193675, -1.62934534, -0.47608355],\n",
       "       [-0.69291805,  0.01007997,  0.06262497, -0.41769496, -0.34149574]])"
      ]
     },
     "execution_count": 64,
     "metadata": {},
     "output_type": "execute_result"
    }
   ],
   "source": [
    "print(np.stack(arrays, axis=0).shape)\n",
    "np.stack(arrays, axis=0)"
   ]
  },
  {
   "cell_type": "code",
   "execution_count": 65,
   "id": "dc619083",
   "metadata": {},
   "outputs": [
    {
     "name": "stdout",
     "output_type": "stream",
     "text": [
      "(5, 10)\n"
     ]
    },
    {
     "data": {
      "text/plain": [
       "array([[-0.52080709, -0.61494489, -0.51356577,  0.91687385, -2.01465172,\n",
       "        -0.62468998,  0.23475903,  1.56555595,  1.83047387, -0.69291805],\n",
       "       [-0.15136883,  0.34358773, -0.44115561, -0.58835036,  1.46590919,\n",
       "         0.0506514 ,  1.07041889, -0.45939919,  0.26109834,  0.01007997],\n",
       "       [-2.15819016,  0.88003603, -0.46678351, -0.99912557,  1.48781372,\n",
       "         0.01914159, -0.09744266, -0.44554255,  0.39193675,  0.06262497],\n",
       "       [-0.14570637, -1.08156501,  0.30288594, -0.47296926,  0.50803456,\n",
       "         1.2100571 ,  2.18088051,  0.4180463 , -1.62934534, -0.41769496],\n",
       "       [ 0.54671092,  1.32187857,  2.03856688,  0.40578114,  0.23536589,\n",
       "         0.33907303, -0.5565556 ,  0.41326966, -0.47608355, -0.34149574]])"
      ]
     },
     "execution_count": 65,
     "metadata": {},
     "output_type": "execute_result"
    }
   ],
   "source": [
    "print(np.stack(arrays, axis=1).shape)\n",
    "np.stack(arrays, axis=1)"
   ]
  },
  {
   "cell_type": "markdown",
   "id": "5cce6fbe",
   "metadata": {},
   "source": [
    "Multi-dimensional array"
   ]
  },
  {
   "cell_type": "code",
   "execution_count": 66,
   "id": "8bfe10fb",
   "metadata": {},
   "outputs": [
    {
     "data": {
      "text/plain": [
       "[array([[-1.18900254,  0.63435298, -0.22967496,  0.40804783, -0.02191917],\n",
       "        [-0.64138398,  0.6297736 , -0.88818304, -0.26935647,  0.58866686],\n",
       "        [ 0.38682788, -0.47176892, -0.09449444, -0.56756877, -0.3765066 ]]),\n",
       " array([[ 0.60939773,  1.72843818,  0.27160744, -0.07489704, -0.31836805],\n",
       "        [-2.0899181 ,  0.93588396,  0.47399004, -0.66509912,  0.15298177],\n",
       "        [ 0.89922064, -1.33736273, -0.59715444,  2.60511151,  0.97870795]]),\n",
       " array([[ 1.59018528, -1.19023725,  1.49812731,  1.21247899,  1.15652777],\n",
       "        [-1.29140263, -0.59121266, -1.04945414,  0.02143987,  0.73580364],\n",
       "        [ 1.16117905,  0.35318962,  0.87906858, -1.64815505,  0.44481838]]),\n",
       " array([[-0.69140471, -1.94444543,  1.03297209,  0.52767843, -1.06761744],\n",
       "        [ 0.96852732,  0.50064276, -0.50251532,  0.32234854, -0.15647841],\n",
       "        [ 0.68071956,  0.97014045, -0.54982036, -0.84193837, -0.75311422]]),\n",
       " array([[ 2.26658124, -0.19734964,  0.69949169, -0.00648389,  1.601222  ],\n",
       "        [ 0.14364601,  1.08815203, -0.06176669, -0.18341951,  0.25875249],\n",
       "        [-0.03905544, -0.63734566,  0.01114598,  0.83422088,  1.18210086]]),\n",
       " array([[-1.0416231 ,  1.53004749,  0.62399482,  0.06753822, -1.07268787],\n",
       "        [ 0.15692115,  1.85494797,  1.88832696,  2.18816117, -0.85023914],\n",
       "        [-0.06039203,  0.96014212,  0.05493897,  1.55193776, -0.05730662]]),\n",
       " array([[ 1.55013317,  0.41007045, -2.02611301, -1.69483868,  0.05174977],\n",
       "        [ 2.43493555, -0.35024391, -0.13784548,  0.52026672, -0.38264319],\n",
       "        [ 0.14630965,  1.89213812, -0.04950113,  1.48245066, -1.03620446]]),\n",
       " array([[-0.48537537, -0.2458134 , -1.16636264, -0.94563124,  1.47767338],\n",
       "        [ 0.81387378,  1.38702373,  0.53853279,  0.15458174,  0.45216337],\n",
       "        [-1.42050637, -1.5643111 , -0.43355513,  1.0048693 , -1.41465636]]),\n",
       " array([[ 1.02654808, -0.30091342, -0.72221617,  0.33062487, -0.38524091],\n",
       "        [-0.74431328,  1.04742887,  1.39096982,  1.84746721, -1.11165161],\n",
       "        [-0.45291927, -2.23580361, -0.68485683, -0.45359116,  0.65887153]]),\n",
       " array([[ 0.20456734,  0.68352191, -0.36749846, -1.67479157, -0.93645234],\n",
       "        [-0.5454011 ,  0.01177217, -0.52927817, -0.15881099, -0.27224184],\n",
       "        [-0.32648863, -0.50932992,  0.19807001, -0.6962582 , -0.38916923]])]"
      ]
     },
     "execution_count": 66,
     "metadata": {},
     "output_type": "execute_result"
    }
   ],
   "source": [
    "arrays = [np.random.randn(3,5) for _ in range(10)]\n",
    "arrays"
   ]
  },
  {
   "cell_type": "code",
   "execution_count": 67,
   "id": "9cdf9d66",
   "metadata": {},
   "outputs": [
    {
     "name": "stdout",
     "output_type": "stream",
     "text": [
      "(10, 3, 5)\n"
     ]
    },
    {
     "data": {
      "text/plain": [
       "array([[[-1.18900254,  0.63435298, -0.22967496,  0.40804783,\n",
       "         -0.02191917],\n",
       "        [-0.64138398,  0.6297736 , -0.88818304, -0.26935647,\n",
       "          0.58866686],\n",
       "        [ 0.38682788, -0.47176892, -0.09449444, -0.56756877,\n",
       "         -0.3765066 ]],\n",
       "\n",
       "       [[ 0.60939773,  1.72843818,  0.27160744, -0.07489704,\n",
       "         -0.31836805],\n",
       "        [-2.0899181 ,  0.93588396,  0.47399004, -0.66509912,\n",
       "          0.15298177],\n",
       "        [ 0.89922064, -1.33736273, -0.59715444,  2.60511151,\n",
       "          0.97870795]],\n",
       "\n",
       "       [[ 1.59018528, -1.19023725,  1.49812731,  1.21247899,\n",
       "          1.15652777],\n",
       "        [-1.29140263, -0.59121266, -1.04945414,  0.02143987,\n",
       "          0.73580364],\n",
       "        [ 1.16117905,  0.35318962,  0.87906858, -1.64815505,\n",
       "          0.44481838]],\n",
       "\n",
       "       [[-0.69140471, -1.94444543,  1.03297209,  0.52767843,\n",
       "         -1.06761744],\n",
       "        [ 0.96852732,  0.50064276, -0.50251532,  0.32234854,\n",
       "         -0.15647841],\n",
       "        [ 0.68071956,  0.97014045, -0.54982036, -0.84193837,\n",
       "         -0.75311422]],\n",
       "\n",
       "       [[ 2.26658124, -0.19734964,  0.69949169, -0.00648389,\n",
       "          1.601222  ],\n",
       "        [ 0.14364601,  1.08815203, -0.06176669, -0.18341951,\n",
       "          0.25875249],\n",
       "        [-0.03905544, -0.63734566,  0.01114598,  0.83422088,\n",
       "          1.18210086]],\n",
       "\n",
       "       [[-1.0416231 ,  1.53004749,  0.62399482,  0.06753822,\n",
       "         -1.07268787],\n",
       "        [ 0.15692115,  1.85494797,  1.88832696,  2.18816117,\n",
       "         -0.85023914],\n",
       "        [-0.06039203,  0.96014212,  0.05493897,  1.55193776,\n",
       "         -0.05730662]],\n",
       "\n",
       "       [[ 1.55013317,  0.41007045, -2.02611301, -1.69483868,\n",
       "          0.05174977],\n",
       "        [ 2.43493555, -0.35024391, -0.13784548,  0.52026672,\n",
       "         -0.38264319],\n",
       "        [ 0.14630965,  1.89213812, -0.04950113,  1.48245066,\n",
       "         -1.03620446]],\n",
       "\n",
       "       [[-0.48537537, -0.2458134 , -1.16636264, -0.94563124,\n",
       "          1.47767338],\n",
       "        [ 0.81387378,  1.38702373,  0.53853279,  0.15458174,\n",
       "          0.45216337],\n",
       "        [-1.42050637, -1.5643111 , -0.43355513,  1.0048693 ,\n",
       "         -1.41465636]],\n",
       "\n",
       "       [[ 1.02654808, -0.30091342, -0.72221617,  0.33062487,\n",
       "         -0.38524091],\n",
       "        [-0.74431328,  1.04742887,  1.39096982,  1.84746721,\n",
       "         -1.11165161],\n",
       "        [-0.45291927, -2.23580361, -0.68485683, -0.45359116,\n",
       "          0.65887153]],\n",
       "\n",
       "       [[ 0.20456734,  0.68352191, -0.36749846, -1.67479157,\n",
       "         -0.93645234],\n",
       "        [-0.5454011 ,  0.01177217, -0.52927817, -0.15881099,\n",
       "         -0.27224184],\n",
       "        [-0.32648863, -0.50932992,  0.19807001, -0.6962582 ,\n",
       "         -0.38916923]]])"
      ]
     },
     "execution_count": 67,
     "metadata": {},
     "output_type": "execute_result"
    }
   ],
   "source": [
    "print(np.stack(arrays, axis=0).shape)\n",
    "np.stack(arrays, axis=0)"
   ]
  },
  {
   "cell_type": "code",
   "execution_count": 68,
   "id": "e81fff52",
   "metadata": {},
   "outputs": [
    {
     "name": "stdout",
     "output_type": "stream",
     "text": [
      "(3, 10, 5)\n"
     ]
    },
    {
     "data": {
      "text/plain": [
       "array([[[-1.18900254,  0.63435298, -0.22967496,  0.40804783,\n",
       "         -0.02191917],\n",
       "        [ 0.60939773,  1.72843818,  0.27160744, -0.07489704,\n",
       "         -0.31836805],\n",
       "        [ 1.59018528, -1.19023725,  1.49812731,  1.21247899,\n",
       "          1.15652777],\n",
       "        [-0.69140471, -1.94444543,  1.03297209,  0.52767843,\n",
       "         -1.06761744],\n",
       "        [ 2.26658124, -0.19734964,  0.69949169, -0.00648389,\n",
       "          1.601222  ],\n",
       "        [-1.0416231 ,  1.53004749,  0.62399482,  0.06753822,\n",
       "         -1.07268787],\n",
       "        [ 1.55013317,  0.41007045, -2.02611301, -1.69483868,\n",
       "          0.05174977],\n",
       "        [-0.48537537, -0.2458134 , -1.16636264, -0.94563124,\n",
       "          1.47767338],\n",
       "        [ 1.02654808, -0.30091342, -0.72221617,  0.33062487,\n",
       "         -0.38524091],\n",
       "        [ 0.20456734,  0.68352191, -0.36749846, -1.67479157,\n",
       "         -0.93645234]],\n",
       "\n",
       "       [[-0.64138398,  0.6297736 , -0.88818304, -0.26935647,\n",
       "          0.58866686],\n",
       "        [-2.0899181 ,  0.93588396,  0.47399004, -0.66509912,\n",
       "          0.15298177],\n",
       "        [-1.29140263, -0.59121266, -1.04945414,  0.02143987,\n",
       "          0.73580364],\n",
       "        [ 0.96852732,  0.50064276, -0.50251532,  0.32234854,\n",
       "         -0.15647841],\n",
       "        [ 0.14364601,  1.08815203, -0.06176669, -0.18341951,\n",
       "          0.25875249],\n",
       "        [ 0.15692115,  1.85494797,  1.88832696,  2.18816117,\n",
       "         -0.85023914],\n",
       "        [ 2.43493555, -0.35024391, -0.13784548,  0.52026672,\n",
       "         -0.38264319],\n",
       "        [ 0.81387378,  1.38702373,  0.53853279,  0.15458174,\n",
       "          0.45216337],\n",
       "        [-0.74431328,  1.04742887,  1.39096982,  1.84746721,\n",
       "         -1.11165161],\n",
       "        [-0.5454011 ,  0.01177217, -0.52927817, -0.15881099,\n",
       "         -0.27224184]],\n",
       "\n",
       "       [[ 0.38682788, -0.47176892, -0.09449444, -0.56756877,\n",
       "         -0.3765066 ],\n",
       "        [ 0.89922064, -1.33736273, -0.59715444,  2.60511151,\n",
       "          0.97870795],\n",
       "        [ 1.16117905,  0.35318962,  0.87906858, -1.64815505,\n",
       "          0.44481838],\n",
       "        [ 0.68071956,  0.97014045, -0.54982036, -0.84193837,\n",
       "         -0.75311422],\n",
       "        [-0.03905544, -0.63734566,  0.01114598,  0.83422088,\n",
       "          1.18210086],\n",
       "        [-0.06039203,  0.96014212,  0.05493897,  1.55193776,\n",
       "         -0.05730662],\n",
       "        [ 0.14630965,  1.89213812, -0.04950113,  1.48245066,\n",
       "         -1.03620446],\n",
       "        [-1.42050637, -1.5643111 , -0.43355513,  1.0048693 ,\n",
       "         -1.41465636],\n",
       "        [-0.45291927, -2.23580361, -0.68485683, -0.45359116,\n",
       "          0.65887153],\n",
       "        [-0.32648863, -0.50932992,  0.19807001, -0.6962582 ,\n",
       "         -0.38916923]]])"
      ]
     },
     "execution_count": 68,
     "metadata": {},
     "output_type": "execute_result"
    }
   ],
   "source": [
    "print(np.stack(arrays, axis=1).shape)\n",
    "np.stack(arrays, axis=1)"
   ]
  },
  {
   "cell_type": "code",
   "execution_count": 69,
   "id": "2a8ab006",
   "metadata": {},
   "outputs": [
    {
     "name": "stdout",
     "output_type": "stream",
     "text": [
      "(3, 5, 10)\n"
     ]
    },
    {
     "data": {
      "text/plain": [
       "array([[[-1.18900254,  0.60939773,  1.59018528, -0.69140471,\n",
       "          2.26658124, -1.0416231 ,  1.55013317, -0.48537537,\n",
       "          1.02654808,  0.20456734],\n",
       "        [ 0.63435298,  1.72843818, -1.19023725, -1.94444543,\n",
       "         -0.19734964,  1.53004749,  0.41007045, -0.2458134 ,\n",
       "         -0.30091342,  0.68352191],\n",
       "        [-0.22967496,  0.27160744,  1.49812731,  1.03297209,\n",
       "          0.69949169,  0.62399482, -2.02611301, -1.16636264,\n",
       "         -0.72221617, -0.36749846],\n",
       "        [ 0.40804783, -0.07489704,  1.21247899,  0.52767843,\n",
       "         -0.00648389,  0.06753822, -1.69483868, -0.94563124,\n",
       "          0.33062487, -1.67479157],\n",
       "        [-0.02191917, -0.31836805,  1.15652777, -1.06761744,\n",
       "          1.601222  , -1.07268787,  0.05174977,  1.47767338,\n",
       "         -0.38524091, -0.93645234]],\n",
       "\n",
       "       [[-0.64138398, -2.0899181 , -1.29140263,  0.96852732,\n",
       "          0.14364601,  0.15692115,  2.43493555,  0.81387378,\n",
       "         -0.74431328, -0.5454011 ],\n",
       "        [ 0.6297736 ,  0.93588396, -0.59121266,  0.50064276,\n",
       "          1.08815203,  1.85494797, -0.35024391,  1.38702373,\n",
       "          1.04742887,  0.01177217],\n",
       "        [-0.88818304,  0.47399004, -1.04945414, -0.50251532,\n",
       "         -0.06176669,  1.88832696, -0.13784548,  0.53853279,\n",
       "          1.39096982, -0.52927817],\n",
       "        [-0.26935647, -0.66509912,  0.02143987,  0.32234854,\n",
       "         -0.18341951,  2.18816117,  0.52026672,  0.15458174,\n",
       "          1.84746721, -0.15881099],\n",
       "        [ 0.58866686,  0.15298177,  0.73580364, -0.15647841,\n",
       "          0.25875249, -0.85023914, -0.38264319,  0.45216337,\n",
       "         -1.11165161, -0.27224184]],\n",
       "\n",
       "       [[ 0.38682788,  0.89922064,  1.16117905,  0.68071956,\n",
       "         -0.03905544, -0.06039203,  0.14630965, -1.42050637,\n",
       "         -0.45291927, -0.32648863],\n",
       "        [-0.47176892, -1.33736273,  0.35318962,  0.97014045,\n",
       "         -0.63734566,  0.96014212,  1.89213812, -1.5643111 ,\n",
       "         -2.23580361, -0.50932992],\n",
       "        [-0.09449444, -0.59715444,  0.87906858, -0.54982036,\n",
       "          0.01114598,  0.05493897, -0.04950113, -0.43355513,\n",
       "         -0.68485683,  0.19807001],\n",
       "        [-0.56756877,  2.60511151, -1.64815505, -0.84193837,\n",
       "          0.83422088,  1.55193776,  1.48245066,  1.0048693 ,\n",
       "         -0.45359116, -0.6962582 ],\n",
       "        [-0.3765066 ,  0.97870795,  0.44481838, -0.75311422,\n",
       "          1.18210086, -0.05730662, -1.03620446, -1.41465636,\n",
       "          0.65887153, -0.38916923]]])"
      ]
     },
     "execution_count": 69,
     "metadata": {},
     "output_type": "execute_result"
    }
   ],
   "source": [
    "print(np.stack(arrays, axis=2).shape)\n",
    "np.stack(arrays, axis=2)"
   ]
  },
  {
   "cell_type": "markdown",
   "id": "3c99c5e9",
   "metadata": {},
   "source": [
    "## Concatenating\n",
    "\n",
    "![](./concat.jpg)"
   ]
  },
  {
   "cell_type": "code",
   "execution_count": 70,
   "id": "b91452d1",
   "metadata": {},
   "outputs": [
    {
     "data": {
      "text/plain": [
       "array([[1, 2],\n",
       "       [3, 4],\n",
       "       [5, 6]])"
      ]
     },
     "execution_count": 70,
     "metadata": {},
     "output_type": "execute_result"
    }
   ],
   "source": [
    "a = np.array([[1, 2], [3, 4]])\n",
    "b = np.array([[5, 6]])\n",
    "np.concatenate((a, b), axis=0)"
   ]
  },
  {
   "cell_type": "code",
   "execution_count": 73,
   "id": "66f3a693",
   "metadata": {},
   "outputs": [
    {
     "data": {
      "text/plain": [
       "array([[1, 2],\n",
       "       [3, 4],\n",
       "       [5, 6]])"
      ]
     },
     "execution_count": 73,
     "metadata": {},
     "output_type": "execute_result"
    }
   ],
   "source": [
    "a = np.array([[1, 2], [3, 4]])\n",
    "b = np.array([[5, 6]])\n",
    "np.concatenate((a, b), axis=0)"
   ]
  },
  {
   "cell_type": "code",
   "execution_count": 74,
   "id": "ba646b23",
   "metadata": {},
   "outputs": [
    {
     "data": {
      "text/plain": [
       "array([[1, 2, 5],\n",
       "       [3, 4, 6]])"
      ]
     },
     "execution_count": 74,
     "metadata": {},
     "output_type": "execute_result"
    }
   ],
   "source": [
    "a = np.array([[1, 2], [3, 4]])\n",
    "b = np.array([[5, 6]]).T\n",
    "np.concatenate((a, b), axis=1)"
   ]
  },
  {
   "cell_type": "code",
   "execution_count": 75,
   "id": "7c9b51ce",
   "metadata": {},
   "outputs": [
    {
     "name": "stdout",
     "output_type": "stream",
     "text": [
      "[[[ 1  2  3  4]\n",
      "  [ 5  6  7  8]\n",
      "  [ 9 10 11 12]]\n",
      "\n",
      " [[13 14 15 16]\n",
      "  [17 18 19 20]\n",
      "  [21 22 23 24]]]\n"
     ]
    }
   ],
   "source": [
    "array1 = np.array(np.arange(1,25)).reshape((2,3,4))\n",
    "print(array1)"
   ]
  },
  {
   "cell_type": "code",
   "execution_count": 76,
   "id": "cea08405",
   "metadata": {},
   "outputs": [
    {
     "name": "stdout",
     "output_type": "stream",
     "text": [
      "[[[ 1  2]\n",
      "  [ 3  4]\n",
      "  [ 5  6]]\n",
      "\n",
      " [[ 7  8]\n",
      "  [ 9 10]\n",
      "  [11 12]]]\n"
     ]
    }
   ],
   "source": [
    "array2 = np.array(np.arange(1,13)).reshape((2,3,2))\n",
    "print(array2)"
   ]
  },
  {
   "cell_type": "code",
   "execution_count": 77,
   "id": "5025af27",
   "metadata": {},
   "outputs": [
    {
     "data": {
      "text/plain": [
       "(2, 3, 2)"
      ]
     },
     "execution_count": 77,
     "metadata": {},
     "output_type": "execute_result"
    }
   ],
   "source": [
    "array2.shape"
   ]
  },
  {
   "cell_type": "code",
   "execution_count": 78,
   "id": "d3ea4043",
   "metadata": {},
   "outputs": [
    {
     "data": {
      "text/plain": [
       "array([[[ 1,  2,  3,  4,  1,  2],\n",
       "        [ 5,  6,  7,  8,  3,  4],\n",
       "        [ 9, 10, 11, 12,  5,  6]],\n",
       "\n",
       "       [[13, 14, 15, 16,  7,  8],\n",
       "        [17, 18, 19, 20,  9, 10],\n",
       "        [21, 22, 23, 24, 11, 12]]])"
      ]
     },
     "execution_count": 78,
     "metadata": {},
     "output_type": "execute_result"
    }
   ],
   "source": [
    "np.concatenate((array1, array2), axis=2)"
   ]
  },
  {
   "cell_type": "markdown",
   "id": "b56c2e82",
   "metadata": {},
   "source": [
    "## Sorting"
   ]
  },
  {
   "cell_type": "code",
   "execution_count": 79,
   "id": "6e097002",
   "metadata": {},
   "outputs": [
    {
     "data": {
      "text/plain": [
       "array([[1, 4],\n",
       "       [3, 1]])"
      ]
     },
     "execution_count": 79,
     "metadata": {},
     "output_type": "execute_result"
    }
   ],
   "source": [
    "a = np.array([[1,4],[3,1]])\n",
    "a"
   ]
  },
  {
   "cell_type": "code",
   "execution_count": 80,
   "id": "09dbf144",
   "metadata": {},
   "outputs": [
    {
     "data": {
      "text/plain": [
       "array([[1, 4],\n",
       "       [1, 3]])"
      ]
     },
     "execution_count": 80,
     "metadata": {},
     "output_type": "execute_result"
    }
   ],
   "source": [
    "np.sort(a)"
   ]
  },
  {
   "cell_type": "code",
   "execution_count": 81,
   "id": "0c20eb97",
   "metadata": {},
   "outputs": [
    {
     "data": {
      "text/plain": [
       "array([1, 1, 3, 4])"
      ]
     },
     "execution_count": 81,
     "metadata": {},
     "output_type": "execute_result"
    }
   ],
   "source": [
    "np.sort(a, axis=None)"
   ]
  },
  {
   "cell_type": "code",
   "execution_count": 82,
   "id": "88d7c351",
   "metadata": {},
   "outputs": [
    {
     "data": {
      "text/plain": [
       "array([[1, 1],\n",
       "       [3, 4]])"
      ]
     },
     "execution_count": 82,
     "metadata": {},
     "output_type": "execute_result"
    }
   ],
   "source": [
    "np.sort(a, axis=0)"
   ]
  },
  {
   "cell_type": "code",
   "execution_count": 83,
   "id": "f984a50b",
   "metadata": {},
   "outputs": [
    {
     "data": {
      "text/plain": [
       "array([[[38, 63, 39],\n",
       "        [73, 94, 46],\n",
       "        [65, 14, 18]],\n",
       "\n",
       "       [[98, 55, 65],\n",
       "        [56, 68, 17],\n",
       "        [32, 43, 55]]])"
      ]
     },
     "execution_count": 83,
     "metadata": {},
     "output_type": "execute_result"
    }
   ],
   "source": [
    "a = np.array(np.random.randint(1, 100, 18)).reshape(2,3, -1)\n",
    "a"
   ]
  },
  {
   "cell_type": "code",
   "execution_count": 84,
   "id": "e0f02975",
   "metadata": {},
   "outputs": [
    {
     "name": "stdout",
     "output_type": "stream",
     "text": [
      "(2, 3, 3)\n"
     ]
    },
    {
     "data": {
      "text/plain": [
       "array([[[38, 55, 39],\n",
       "        [56, 68, 17],\n",
       "        [32, 14, 18]],\n",
       "\n",
       "       [[98, 63, 65],\n",
       "        [73, 94, 46],\n",
       "        [65, 43, 55]]])"
      ]
     },
     "execution_count": 84,
     "metadata": {},
     "output_type": "execute_result"
    }
   ],
   "source": [
    "print(a.shape)\n",
    "np.sort(a, axis=0)"
   ]
  },
  {
   "cell_type": "code",
   "execution_count": 85,
   "id": "c9671fce",
   "metadata": {},
   "outputs": [
    {
     "name": "stdout",
     "output_type": "stream",
     "text": [
      "(2, 3, 3)\n"
     ]
    },
    {
     "data": {
      "text/plain": [
       "array([[[38, 14, 18],\n",
       "        [65, 63, 39],\n",
       "        [73, 94, 46]],\n",
       "\n",
       "       [[32, 43, 17],\n",
       "        [56, 55, 55],\n",
       "        [98, 68, 65]]])"
      ]
     },
     "execution_count": 85,
     "metadata": {},
     "output_type": "execute_result"
    }
   ],
   "source": [
    "print(a.shape)\n",
    "np.sort(a, axis=1)"
   ]
  },
  {
   "cell_type": "code",
   "execution_count": 86,
   "id": "dd03a727",
   "metadata": {},
   "outputs": [
    {
     "name": "stdout",
     "output_type": "stream",
     "text": [
      "(2, 3, 3)\n"
     ]
    },
    {
     "data": {
      "text/plain": [
       "array([[[38, 39, 63],\n",
       "        [46, 73, 94],\n",
       "        [14, 18, 65]],\n",
       "\n",
       "       [[55, 65, 98],\n",
       "        [17, 56, 68],\n",
       "        [32, 43, 55]]])"
      ]
     },
     "execution_count": 86,
     "metadata": {},
     "output_type": "execute_result"
    }
   ],
   "source": [
    "print(a.shape)\n",
    "np.sort(a, axis=2)"
   ]
  },
  {
   "cell_type": "markdown",
   "id": "23a62352",
   "metadata": {},
   "source": [
    "## Math functions"
   ]
  },
  {
   "cell_type": "code",
   "execution_count": 87,
   "id": "fa5f155d",
   "metadata": {},
   "outputs": [
    {
     "data": {
      "text/plain": [
       "array([[[38, 63, 39],\n",
       "        [73, 94, 46],\n",
       "        [65, 14, 18]],\n",
       "\n",
       "       [[98, 55, 65],\n",
       "        [56, 68, 17],\n",
       "        [32, 43, 55]]])"
      ]
     },
     "execution_count": 87,
     "metadata": {},
     "output_type": "execute_result"
    }
   ],
   "source": [
    "a"
   ]
  },
  {
   "cell_type": "code",
   "execution_count": 88,
   "id": "92e20596",
   "metadata": {},
   "outputs": [
    {
     "data": {
      "text/plain": [
       "98"
      ]
     },
     "execution_count": 88,
     "metadata": {},
     "output_type": "execute_result"
    }
   ],
   "source": [
    "np.max(a)"
   ]
  },
  {
   "cell_type": "code",
   "execution_count": 89,
   "id": "33697e24",
   "metadata": {},
   "outputs": [
    {
     "data": {
      "text/plain": [
       "array([[98, 63, 65],\n",
       "       [73, 94, 46],\n",
       "       [65, 43, 55]])"
      ]
     },
     "execution_count": 89,
     "metadata": {},
     "output_type": "execute_result"
    }
   ],
   "source": [
    "np.maximum(a[0], a[1])"
   ]
  },
  {
   "cell_type": "code",
   "execution_count": 90,
   "id": "e73febcb",
   "metadata": {},
   "outputs": [
    {
     "data": {
      "text/plain": [
       "14"
      ]
     },
     "execution_count": 90,
     "metadata": {},
     "output_type": "execute_result"
    }
   ],
   "source": [
    "np.min(a)"
   ]
  },
  {
   "cell_type": "code",
   "execution_count": 91,
   "id": "2c3f5002",
   "metadata": {},
   "outputs": [
    {
     "data": {
      "text/plain": [
       "array([[38, 55, 39],\n",
       "       [56, 68, 17],\n",
       "       [32, 14, 18]])"
      ]
     },
     "execution_count": 91,
     "metadata": {},
     "output_type": "execute_result"
    }
   ],
   "source": [
    "np.minimum(a[0], a[1])"
   ]
  },
  {
   "cell_type": "code",
   "execution_count": 92,
   "id": "b0c2eedc",
   "metadata": {},
   "outputs": [
    {
     "data": {
      "text/plain": [
       "939"
      ]
     },
     "execution_count": 92,
     "metadata": {},
     "output_type": "execute_result"
    }
   ],
   "source": [
    "np.sum(a)"
   ]
  },
  {
   "cell_type": "code",
   "execution_count": 93,
   "id": "d3e55a14",
   "metadata": {},
   "outputs": [
    {
     "data": {
      "text/plain": [
       "array([[[38, 63, 39],\n",
       "        [73, 94, 46],\n",
       "        [65, 14, 18]],\n",
       "\n",
       "       [[98, 55, 65],\n",
       "        [56, 68, 17],\n",
       "        [32, 43, 55]]])"
      ]
     },
     "execution_count": 93,
     "metadata": {},
     "output_type": "execute_result"
    }
   ],
   "source": [
    "a"
   ]
  },
  {
   "cell_type": "code",
   "execution_count": 94,
   "id": "7cd04608",
   "metadata": {},
   "outputs": [
    {
     "data": {
      "text/plain": [
       "array([[136, 118, 104],\n",
       "       [129, 162,  63],\n",
       "       [ 97,  57,  73]])"
      ]
     },
     "execution_count": 94,
     "metadata": {},
     "output_type": "execute_result"
    }
   ],
   "source": [
    "np.sum(a, axis=0)"
   ]
  },
  {
   "cell_type": "code",
   "execution_count": 95,
   "id": "0d0dcf35",
   "metadata": {},
   "outputs": [
    {
     "data": {
      "text/plain": [
       "array([[176, 171, 103],\n",
       "       [186, 166, 137]])"
      ]
     },
     "execution_count": 95,
     "metadata": {},
     "output_type": "execute_result"
    }
   ],
   "source": [
    "np.sum(a, axis=1)"
   ]
  },
  {
   "cell_type": "code",
   "execution_count": 96,
   "id": "d8492486",
   "metadata": {},
   "outputs": [
    {
     "data": {
      "text/plain": [
       "array([[140, 213,  97],\n",
       "       [218, 141, 130]])"
      ]
     },
     "execution_count": 96,
     "metadata": {},
     "output_type": "execute_result"
    }
   ],
   "source": [
    "np.sum(a, axis=2)"
   ]
  },
  {
   "cell_type": "code",
   "execution_count": 97,
   "id": "26a16293",
   "metadata": {},
   "outputs": [
    {
     "data": {
      "text/plain": [
       "array([[[38, 63, 39],\n",
       "        [73, 94, 46],\n",
       "        [65, 14, 18]],\n",
       "\n",
       "       [[98, 55, 65],\n",
       "        [56, 68, 17],\n",
       "        [32, 43, 55]]])"
      ]
     },
     "execution_count": 97,
     "metadata": {},
     "output_type": "execute_result"
    }
   ],
   "source": [
    "a"
   ]
  },
  {
   "cell_type": "code",
   "execution_count": 98,
   "id": "79f1b989",
   "metadata": {
    "scrolled": true
   },
   "outputs": [
    {
     "data": {
      "text/plain": [
       "array([[3724, 3465, 2535],\n",
       "       [4088, 6392,  782],\n",
       "       [2080,  602,  990]])"
      ]
     },
     "execution_count": 98,
     "metadata": {},
     "output_type": "execute_result"
    }
   ],
   "source": [
    "np.multiply(a[0], a[1])"
   ]
  },
  {
   "cell_type": "markdown",
   "id": "3ad928cb",
   "metadata": {},
   "source": [
    "### Multiplication\n",
    "\n",
    "#### Dot Product"
   ]
  },
  {
   "cell_type": "code",
   "execution_count": 99,
   "id": "f7f4ece0",
   "metadata": {},
   "outputs": [
    {
     "data": {
      "text/plain": [
       "array([[ 8500,  8051,  5686],\n",
       "       [13890, 12385,  8873],\n",
       "       [ 7730,  5301,  5453]])"
      ]
     },
     "execution_count": 99,
     "metadata": {},
     "output_type": "execute_result"
    }
   ],
   "source": [
    "# Returns the dot product of a and b. \n",
    "# If a and b are both scalars or both 1-D arrays then a scalar is returned; otherwise an array is returned\n",
    "np.dot(a[0], a[1])"
   ]
  },
  {
   "cell_type": "code",
   "execution_count": 100,
   "id": "affb2980",
   "metadata": {},
   "outputs": [
    {
     "data": {
      "text/plain": [
       "array([[ 8500,  8051,  5686],\n",
       "       [13890, 12385,  8873],\n",
       "       [ 7730,  5301,  5453]])"
      ]
     },
     "execution_count": 100,
     "metadata": {},
     "output_type": "execute_result"
    }
   ],
   "source": [
    "# perform matrix multiplication in NumPy\n",
    "np.matmul(a[0], a[1])"
   ]
  },
  {
   "cell_type": "markdown",
   "id": "ab72bc0b",
   "metadata": {},
   "source": [
    "#### Other functions"
   ]
  },
  {
   "cell_type": "code",
   "execution_count": 101,
   "id": "095bfebf",
   "metadata": {},
   "outputs": [
    {
     "data": {
      "text/plain": [
       "array([[ 5686,  8051,  8500],\n",
       "       [ 8873, 12385, 13890],\n",
       "       [ 5453,  5301,  7730]])"
      ]
     },
     "execution_count": 101,
     "metadata": {},
     "output_type": "execute_result"
    }
   ],
   "source": [
    "# Reverse the order of elements along axis 1 (left/right). \n",
    "# For a 2-D array, this flips the entries in each row in the left/right direction.\n",
    "np.fliplr(np.matmul(a[0], a[1]))"
   ]
  },
  {
   "cell_type": "code",
   "execution_count": 102,
   "id": "f5b64413",
   "metadata": {},
   "outputs": [
    {
     "data": {
      "text/plain": [
       "array([[ 8500, 13890,  7730],\n",
       "       [ 8051, 12385,  5301],\n",
       "       [ 5686,  8873,  5453]])"
      ]
     },
     "execution_count": 102,
     "metadata": {},
     "output_type": "execute_result"
    }
   ],
   "source": [
    "# transpose of the matrix\n",
    "np.matmul(a[0], a[1]).T"
   ]
  },
  {
   "cell_type": "code",
   "execution_count": 103,
   "id": "599d87b3",
   "metadata": {},
   "outputs": [
    {
     "data": {
      "text/plain": [
       "array([ 8500, 12385,  5453])"
      ]
     },
     "execution_count": 103,
     "metadata": {},
     "output_type": "execute_result"
    }
   ],
   "source": [
    "# find a diagonal element from a given matrix and gives output as one dimensional matrix\n",
    "np.diagonal(np.matmul(a[0], a[1]))"
   ]
  },
  {
   "cell_type": "code",
   "execution_count": 104,
   "id": "311d06fd",
   "metadata": {},
   "outputs": [
    {
     "data": {
      "text/plain": [
       "array([ 5686, 12385,  7730])"
      ]
     },
     "execution_count": 104,
     "metadata": {},
     "output_type": "execute_result"
    }
   ],
   "source": [
    "np.diagonal(np.fliplr(np.matmul(a[0], a[1])))"
   ]
  },
  {
   "cell_type": "code",
   "execution_count": 105,
   "id": "e6d253b7",
   "metadata": {},
   "outputs": [
    {
     "data": {
      "text/plain": [
       "array([[1., 1., 1.],\n",
       "       [1., 1., 1.]])"
      ]
     },
     "execution_count": 105,
     "metadata": {},
     "output_type": "execute_result"
    }
   ],
   "source": [
    "# Return a numpy array of given shape and type, filled with ones\n",
    "np.ones((2,3))"
   ]
  },
  {
   "cell_type": "code",
   "execution_count": 106,
   "id": "6dada6b4",
   "metadata": {},
   "outputs": [
    {
     "data": {
      "text/plain": [
       "array([[0., 0., 0.],\n",
       "       [0., 0., 0.]])"
      ]
     },
     "execution_count": 106,
     "metadata": {},
     "output_type": "execute_result"
    }
   ],
   "source": [
    "# Return a numpy array of given shape and type, filled with zeros\n",
    "np.zeros((2,3))"
   ]
  },
  {
   "cell_type": "code",
   "execution_count": null,
   "id": "3398a634",
   "metadata": {},
   "outputs": [],
   "source": []
  }
 ],
 "metadata": {
  "kernelspec": {
   "display_name": "Python 3 (ipykernel)",
   "language": "python",
   "name": "python3"
  },
  "language_info": {
   "codemirror_mode": {
    "name": "ipython",
    "version": 3
   },
   "file_extension": ".py",
   "mimetype": "text/x-python",
   "name": "python",
   "nbconvert_exporter": "python",
   "pygments_lexer": "ipython3",
   "version": "3.9.12"
  }
 },
 "nbformat": 4,
 "nbformat_minor": 5
}
